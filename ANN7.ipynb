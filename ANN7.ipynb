{
 "cells": [
  {
   "cell_type": "code",
   "execution_count": null,
   "id": "03f132a7-d8a1-4b1f-a587-3dd7d505386e",
   "metadata": {},
   "outputs": [],
   "source": [
    "Name - Bodke Sairaj Nivrutti.\n",
    "Class - T.E. AI & DS.\n",
    "Subject - Softwre lab II(317533)\n",
    "Roll No. - 06\n",
    "Assignment No.7 - Write a python program to show back propagation network for XOR function with binary input and output."
   ]
  },
  {
   "cell_type": "code",
   "execution_count": 1,
   "id": "4c79a7ae-4d8c-44b4-9644-ba29a3182afa",
   "metadata": {},
   "outputs": [
    {
     "name": "stdout",
     "output_type": "stream",
     "text": [
      "[[0.01145225]\n",
      " [0.98915802]\n",
      " [0.98690874]\n",
      " [0.01023265]]\n"
     ]
    }
   ],
   "source": [
    "import numpy as np\n",
    "\n",
    "class XORNetwork:\n",
    "    def __init__(self):\n",
    "        # Initialize the weights and biases randomly\n",
    "        self.W1 = np.random.randn(2, 2)\n",
    "        self.b1 = np.random.randn(2)\n",
    "        self.W2 = np.random.randn(2, 1)\n",
    "        self.b2 = np.random.randn(1)\n",
    "\n",
    "    def sigmoid(self, x):\n",
    "        return 1 / (1 + np.exp(-x))\n",
    "\n",
    "    def sigmoid_derivative(self, x):\n",
    "        return x * (1 - x)\n",
    "\n",
    "    def forward(self, X):\n",
    "        # Perform the forward pass\n",
    "        self.z1 = np.dot(X, self.W1) + self.b1\n",
    "        self.a1 = self.sigmoid(self.z1)\n",
    "        self.z2 = np.dot(self.a1, self.W2) + self.b2\n",
    "        self.a2 = self.sigmoid(self.z2)\n",
    "        return self.a2\n",
    "\n",
    "    def backward(self, X, y, output):\n",
    "        # Perform the backward pass\n",
    "        self.output_error = y - output\n",
    "        self.output_delta = self.output_error * self.sigmoid_derivative(output)\n",
    "\n",
    "        self.z1_error = self.output_delta.dot(self.W2.T)\n",
    "        self.z1_delta = self.z1_error * self.sigmoid_derivative(self.a1)\n",
    "\n",
    "        self.W1 += X.T.dot(self.z1_delta)\n",
    "        self.b1 += np.sum(self.z1_delta, axis=0)\n",
    "        self.W2 += self.a1.T.dot(self.output_delta)\n",
    "        self.b2 += np.sum(self.output_delta, axis=0)\n",
    "\n",
    "    def train(self, X, y, epochs):\n",
    "        # Train the network for a given number of epochs\n",
    "        for i in range(epochs):\n",
    "            output = self.forward(X)\n",
    "            self.backward(X, y, output)\n",
    "\n",
    "    def predict(self, X):\n",
    "        # Make predictions for a given set of inputs\n",
    "        return self.forward(X)\n",
    "\n",
    "# Create a new XORNetwork instance\n",
    "xor_nn = XORNetwork()\n",
    "\n",
    "# Define the input and output datasets for XOR\n",
    "X = np.array([[0, 0], [0, 1], [1, 0], [1, 1]])\n",
    "y = np.array([[0], [1], [1], [0]])\n",
    "\n",
    "# Train the network for 10000 epochs\n",
    "xor_nn.train(X, y, epochs=10000)\n",
    "\n",
    "# Make predictions on the input dataset\n",
    "predictions = xor_nn.predict(X)\n",
    "\n",
    "# Print the predictions\n",
    "print(predictions)\n"
   ]
  },
  {
   "cell_type": "code",
   "execution_count": null,
   "id": "ae2f1b69-6667-41a9-a5f7-6026a4a590a0",
   "metadata": {},
   "outputs": [],
   "source": []
  }
 ],
 "metadata": {
  "kernelspec": {
   "display_name": "Python 3 (ipykernel)",
   "language": "python",
   "name": "python3"
  },
  "language_info": {
   "codemirror_mode": {
    "name": "ipython",
    "version": 3
   },
   "file_extension": ".py",
   "mimetype": "text/x-python",
   "name": "python",
   "nbconvert_exporter": "python",
   "pygments_lexer": "ipython3",
   "version": "3.10.9"
  }
 },
 "nbformat": 4,
 "nbformat_minor": 5
}
