{
 "cells": [
  {
   "cell_type": "code",
   "execution_count": null,
   "id": "647ccb09-7e28-4511-ae1c-4b54f37c7179",
   "metadata": {},
   "outputs": [],
   "source": [
    "Name - Bodke Sairaj Nivrutti.\n",
    "Class - T.E. AI & DS.\n",
    "Subject - Softwre lab II(317533)\n",
    "Roll No. - 06\n",
    "Assignment No.5 - Write a python program for Bidirectional Associative memory with two pairs of vectors."
   ]
  },
  {
   "cell_type": "code",
   "execution_count": 1,
   "id": "0b20f691-6dc1-4072-af9b-4b6ac95c7117",
   "metadata": {},
   "outputs": [
    {
     "name": "stdout",
     "output_type": "stream",
     "text": [
      "Input x:  [ 1 -1 -1 -1]\n",
      "Output y:  [ 1 -1]\n"
     ]
    }
   ],
   "source": [
    "import numpy as np\n",
    "\n",
    "# define two pairs of vectors\n",
    "x1 = np.array([1, 1, 1, -1])\n",
    "y1 = np.array([1, -1])\n",
    "x2 = np.array([-1, -1, 1, 1])\n",
    "y2 = np.array([-1, 1])\n",
    "\n",
    "# compute weight matrix W\n",
    "W = np.outer(y1, x1) + np.outer(y2, x2)\n",
    "\n",
    "# define BAM function\n",
    "def bam(x):\n",
    "    y = np.dot(W, x)\n",
    "    y = np.where(y >= 0, 1, -1)\n",
    "    return y\n",
    "\n",
    "# test BAM with inputs\n",
    "x_test = np.array([1, -1, -1, -1])\n",
    "y_test = bam(x_test)\n",
    "\n",
    "# print output\n",
    "print(\"Input x: \", x_test)\n",
    "print(\"Output y: \", y_test)\n"
   ]
  },
  {
   "cell_type": "code",
   "execution_count": null,
   "id": "5bfe0869-9b00-4022-a860-32fc878a83a8",
   "metadata": {},
   "outputs": [],
   "source": []
  }
 ],
 "metadata": {
  "kernelspec": {
   "display_name": "Python 3 (ipykernel)",
   "language": "python",
   "name": "python3"
  },
  "language_info": {
   "codemirror_mode": {
    "name": "ipython",
    "version": 3
   },
   "file_extension": ".py",
   "mimetype": "text/x-python",
   "name": "python",
   "nbconvert_exporter": "python",
   "pygments_lexer": "ipython3",
   "version": "3.10.9"
  }
 },
 "nbformat": 4,
 "nbformat_minor": 5
}
