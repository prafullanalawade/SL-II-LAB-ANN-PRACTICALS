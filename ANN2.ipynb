{
 "cells": [
  {
   "cell_type": "code",
   "execution_count": null,
   "id": "91908e51-ebd6-4d4d-8968-0d904278d789",
   "metadata": {},
   "outputs": [],
   "source": [
    "Name - Bodke Sairaj Nivrutti.\n",
    "Class - T.E. AI & DS.\n",
    "Subject - Softwre lab II(317533)\n",
    "Roll No. - 06\n",
    "Assignment No.2 - Generate ANDNOT function using McCulloch-Pitts neural net by a python program."
   ]
  },
  {
   "cell_type": "code",
   "execution_count": 1,
   "id": "939fa987-aee8-4ba9-9f0d-61e914da024b",
   "metadata": {},
   "outputs": [
    {
     "name": "stdout",
     "output_type": "stream",
     "text": [
      "input table:\n",
      "[[0 0]\n",
      " [0 1]\n",
      " [1 0]\n",
      " [1 1]]\n",
      "Activation: 0\n",
      "Activation: 0\n",
      "Activation: 1\n",
      "Activation: 0\n"
     ]
    }
   ],
   "source": [
    "# importing libraries\n",
    "import numpy as np\n",
    "\n",
    "# function of checking thresold value\n",
    "def linear_threshold_gate(dot, T):\n",
    "    '''Returns the binary threshold output'''\n",
    "    if dot >= T:\n",
    "        return 1\n",
    "    else:\n",
    "        return 0\n",
    "\n",
    "# matrix of inputs\n",
    "input_table = np.array([\n",
    "    [0,0], # both no\n",
    "    [0,1], # one no, one yes\n",
    "    [1,0], # one yes, one no\n",
    "    [1,1]  # bot yes\n",
    "])\n",
    "\n",
    "print(f'input table:\\n{input_table}')\n",
    "\n",
    "weights = np.array([1,-1])\n",
    "\n",
    "dot_products = input_table @ weights\n",
    "\n",
    "T = 1\n",
    "for i in range(0,4):\n",
    "    activation = linear_threshold_gate(dot_products[i], T)\n",
    "    print(f'Activation: {activation}')\n"
   ]
  },
  {
   "cell_type": "code",
   "execution_count": null,
   "id": "c647a62d-f644-458c-bd3d-9dd8c3e5812e",
   "metadata": {},
   "outputs": [],
   "source": []
  }
 ],
 "metadata": {
  "kernelspec": {
   "display_name": "Python 3 (ipykernel)",
   "language": "python",
   "name": "python3"
  },
  "language_info": {
   "codemirror_mode": {
    "name": "ipython",
    "version": 3
   },
   "file_extension": ".py",
   "mimetype": "text/x-python",
   "name": "python",
   "nbconvert_exporter": "python",
   "pygments_lexer": "ipython3",
   "version": "3.10.9"
  }
 },
 "nbformat": 4,
 "nbformat_minor": 5
}
